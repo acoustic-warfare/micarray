{
 "cells": [
  {
   "cell_type": "code",
   "execution_count": 1,
   "metadata": {},
   "outputs": [],
   "source": [
    "# Generate audio data for the beamformer. This will not be used when the algoritm runs with real data\n",
    "# This program takes around 5 minutes to generate audio data (with one source) for 1 second.\n",
    "\n",
    "import numpy as np\n",
    "\n",
    "import config\n",
    "from common import Array\n"
   ]
  },
  {
   "cell_type": "code",
   "execution_count": 2,
   "metadata": {},
   "outputs": [],
   "source": [
    "# GLOBAL VARIABLES\n",
    "c = 340                     # propagation speed of sound\n",
    "# Initialization\n",
    "# f_sampling, t_start, t_end, away_distance are user defined variables\n",
    "f_sampling = 16000  # config.f_sampling                      # sampling frequency in Hz\n",
    "t_start = config.t_start                            # start time of simulation\n",
    "t_end = config.t_end                                # end time of simulation\n",
    "t_total = t_end - t_start                           # total simulation time\n",
    "t = np.linspace(t_start, t_end, t_total*f_sampling)  # time vector\n",
    "\n",
    "# distance between the array and sources\n",
    "away_distance = config.away_distance\n",
    "\n",
    "filename = \"array_audio_signals3.npy\"\n"
   ]
  },
  {
   "cell_type": "code",
   "execution_count": 3,
   "metadata": {},
   "outputs": [],
   "source": [
    "class Source:\n",
    "    \"\"\"Audio source\"\"\"\n",
    "\n",
    "    def __init__(self, f_start, f_end, f_res, theta_deg, phi_deg, rho, t_start, t_end):\n",
    "        self.theta = theta_deg*np.pi/180\n",
    "        self.phi = phi_deg*np.pi/180\n",
    "        self.frequency = np.linspace(f_start, f_end, f_res)\n",
    "        self.t_start = t_start\n",
    "        self.t_end = t_end\n",
    "        self.rho = rho\n"
   ]
  },
  {
   "cell_type": "code",
   "execution_count": 4,
   "metadata": {},
   "outputs": [],
   "source": [
    "def r_vec(theta, phi):\n",
    "    return np.array([(np.sin(theta)*np.cos(phi)),\n",
    "                     np.sin(theta)*np.sin(phi), np.cos(theta)])\n"
   ]
  },
  {
   "cell_type": "code",
   "execution_count": 5,
   "metadata": {},
   "outputs": [],
   "source": [
    "def generate_array_signals(matrix_array, sources, t):\n",
    "    r_prime = matrix_array.r_prime\n",
    "    Audio_signal = np.zeros((len(t), len(r_prime[0, :])))\n",
    "\n",
    "    for sample in range(len(t)):\n",
    "        # print stuff so user know how many samples that have been generated\n",
    "        if (sample+1 in np.linspace(0, len(t), 11)) or (sample == 0):\n",
    "            # print stuff so user know how many samples that have been generated\n",
    "            print(sample+1)\n",
    "        for mic in range(len(r_prime[0, :])):\n",
    "            x_i = r_prime[0, mic]\n",
    "            y_i = r_prime[1, mic]\n",
    "            temp_signal_sample = 0\n",
    "            for source in sources:\n",
    "                if (source.t_start < t[sample]) and (t[sample] < source.t_end):\n",
    "                    frequencies_ps = source.frequency\n",
    "                    theta_source = source.theta\n",
    "                    phi_source = source.phi\n",
    "                    rho_source = source.rho\n",
    "\n",
    "                    for freq in frequencies_ps:\n",
    "                        k = 2*np.pi*freq/c\n",
    "                        r_1 = np.array([x_i, y_i, 0])\n",
    "                        r_2 = rho_source * r_vec(theta_source, phi_source)\n",
    "                        norm_coeff = np.linalg.norm(r_2-r_1)\n",
    "                        phase_offset = -k*norm_coeff\n",
    "                        element_amplitude = 1/norm_coeff\n",
    "                        temp_signal_sample += element_amplitude * \\\n",
    "                            np.sin(2*np.pi * freq * t[sample] + phase_offset)\n",
    "\n",
    "            Audio_signal[sample, mic] = temp_signal_sample\n",
    "    return Audio_signal\n"
   ]
  },
  {
   "cell_type": "code",
   "execution_count": 6,
   "metadata": {},
   "outputs": [],
   "source": [
    "# set up arrays\n",
    "arrays = [Array(config.r_a1, config.distance, config.rows, config.columns)]\n",
    "\n",
    "array_matrices = arrays\n",
    "sub_arrays = len(array_matrices)\n"
   ]
  },
  {
   "cell_type": "code",
   "execution_count": 7,
   "metadata": {},
   "outputs": [
    {
     "name": "stdout",
     "output_type": "stream",
     "text": [
      "Number of samples generated (of 16000):\n",
      "1\n",
      "1600\n",
      "3200\n",
      "4800\n",
      "6400\n",
      "8000\n",
      "9600\n",
      "11200\n",
      "12800\n",
      "14400\n",
      "16000\n",
      "Audio signal for array 1 generated\n"
     ]
    }
   ],
   "source": [
    "# Create and place out sources\n",
    "# source1 and source2 below can be generated in parallell\n",
    "source1 = Source(config.f_start1, config.f_end1, config.f_res1,\n",
    "                 config.theta_deg1, config.phi_deg1, config.away_distance, config.t_start1, config.t_end1)\n",
    "source2 = Source(config.f_start2, config.f_end2, config.f_res2,\n",
    "                 config.theta_deg2, config.phi_deg2, config.away_distance, config.t_start2, config.t_end2)\n",
    "sources = np.array([source1, source2])\n",
    "\n",
    " # GENERATE AUDIO SIGNAL\n",
    " \n",
    "array_audio_signals = np.zeros((sub_arrays), dtype=object)\n",
    "print('Number of samples generated (of '+str(f_sampling*t_total)+'):')\n",
    "for array in range(sub_arrays):  # PARALLELL\n",
    "    # generate the audio signals on each array-element for each sub-array\n",
    "    temp_signal = generate_array_signals(\n",
    "        array_matrices[array], sources, t)  # t = time\n",
    "    array_audio_signals[array] = temp_signal\n",
    "    print('Audio signal for array '+str(array+1)+' generated')\n",
    "\n",
    "np.save(filename, array_audio_signals)\n"
   ]
  }
 ],
 "metadata": {
  "kernelspec": {
   "display_name": "Python 3.8.10 64-bit",
   "language": "python",
   "name": "python3"
  },
  "language_info": {
   "codemirror_mode": {
    "name": "ipython",
    "version": 3
   },
   "file_extension": ".py",
   "mimetype": "text/x-python",
   "name": "python",
   "nbconvert_exporter": "python",
   "pygments_lexer": "ipython3",
   "version": "3.8.10"
  },
  "orig_nbformat": 4,
  "vscode": {
   "interpreter": {
    "hash": "916dbcbb3f70747c44a77c7bcd40155683ae19c65e1c03b4aa3499c5328201f1"
   }
  }
 },
 "nbformat": 4,
 "nbformat_minor": 2
}
